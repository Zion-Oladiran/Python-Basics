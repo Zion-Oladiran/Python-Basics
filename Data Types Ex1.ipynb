{
 "cells": [
  {
   "cell_type": "markdown",
   "metadata": {
    "id": "SwQs8bWd96Fi"
   },
   "source": [
    "# Q1"
   ]
  },
  {
   "cell_type": "markdown",
   "metadata": {
    "id": "BtNbew1G96Fn"
   },
   "source": [
    "List the basic data types in python and give one example each."
   ]
  },
  {
   "cell_type": "markdown",
   "metadata": {},
   "source": [
    "- String: \"Zion\"\n",
    "\n",
    "- Integer: 1\n",
    "\n",
    "- Float: 3.124\n",
    "\n",
    "- Boolean: True\n",
    "\n",
    "- Complex number: 2i + 5j"
   ]
  },
  {
   "cell_type": "markdown",
   "metadata": {
    "id": "TyQFdgUP96Fo"
   },
   "source": [
    "# Q2"
   ]
  },
  {
   "cell_type": "markdown",
   "metadata": {
    "id": "18cOdxgE96Fq"
   },
   "source": [
    "Change the variable x = 4539.85 to a string and assign it to a new variable y. An integer assign it to a new variable z. Print out the type of y and z using the type function."
   ]
  },
  {
   "cell_type": "code",
   "execution_count": 4,
   "metadata": {},
   "outputs": [
    {
     "name": "stdout",
     "output_type": "stream",
     "text": [
      "<class 'str'>\n",
      "<class 'int'>\n"
     ]
    }
   ],
   "source": [
    "x = 4539.85\n",
    "y = str(x)\n",
    "z = int(x)\n",
    "\n",
    "print(type(y))\n",
    "print(type(z))"
   ]
  },
  {
   "cell_type": "markdown",
   "metadata": {
    "id": "-Nac31js96Fr"
   },
   "source": [
    "# Q3"
   ]
  },
  {
   "cell_type": "markdown",
   "metadata": {
    "id": "PJP3o9by96Ft"
   },
   "source": [
    "What data type would you use to store  \n",
    "\n",
    "a. the price of car?\n",
    "\n",
    "b. the age of a person\n",
    "\n",
    "c. car plate number: plateNumber = \"AV01-AFP\"?"
   ]
  },
  {
   "cell_type": "markdown",
   "metadata": {},
   "source": [
    "- The price of car: Float\n",
    "- The age of a person: Integer\n",
    "- Car plate number: String"
   ]
  },
  {
   "cell_type": "markdown",
   "metadata": {
    "id": "s1S9uyxU96Fu"
   },
   "source": [
    "# Q4"
   ]
  },
  {
   "cell_type": "markdown",
   "metadata": {
    "id": "GdnTKgbx96Fv"
   },
   "source": [
    "Split the statement below into two statement_1 and statement_2 such that statement_1 will be ' Thomas Partey is arguably the best player in the Black Stars' and statement_2 will be 'He is a great addition to the team'"
   ]
  },
  {
   "cell_type": "code",
   "execution_count": 19,
   "metadata": {},
   "outputs": [
    {
     "name": "stdout",
     "output_type": "stream",
     "text": [
      "Thomas Partey is arguably the best player in the Black Stars\n",
      "He is a great addition to the team\n"
     ]
    }
   ],
   "source": [
    "statement = 'Thomas Partey is arguably the best player in the Black Stars,He is a great addition to the team'\n",
    "\n",
    "statement_1, statement_2 = statement.split(sep=\",\")\n",
    "\n",
    "print(statement_1)\n",
    "\n",
    "print(statement_2)"
   ]
  },
  {
   "cell_type": "markdown",
   "metadata": {
    "id": "lV7_Nyxo96Fw"
   },
   "source": [
    "# Q5"
   ]
  },
  {
   "cell_type": "markdown",
   "metadata": {
    "id": "IgoAOuOh96Fx"
   },
   "source": [
    "what values does python use to represent True and False respectively?"
   ]
  },
  {
   "cell_type": "markdown",
   "metadata": {},
   "source": [
    "True: 1\n",
    "\n",
    "False: 0"
   ]
  },
  {
   "cell_type": "markdown",
   "metadata": {
    "id": "ncD7zGo496Fy"
   },
   "source": [
    "# Q6"
   ]
  },
  {
   "cell_type": "markdown",
   "metadata": {
    "id": "J88TEssV96Fz"
   },
   "source": [
    "write a code to evaluate if the following statments are True or False.\n",
    "\n",
    "1. 78 is greater than 46 and less than 30\n",
    "\n",
    "2. is 8 + 5 equals to 8-2 \n",
    "\n",
    "3. The number of characters in the word 'boostrap' is 7 and that of 'sample' is 6."
   ]
  },
  {
   "cell_type": "code",
   "execution_count": 32,
   "metadata": {},
   "outputs": [
    {
     "data": {
      "text/plain": [
       "False"
      ]
     },
     "execution_count": 32,
     "metadata": {},
     "output_type": "execute_result"
    }
   ],
   "source": [
    "(78 > 46) and (78 < 30)"
   ]
  },
  {
   "cell_type": "code",
   "execution_count": 31,
   "metadata": {},
   "outputs": [
    {
     "data": {
      "text/plain": [
       "False"
      ]
     },
     "execution_count": 31,
     "metadata": {},
     "output_type": "execute_result"
    }
   ],
   "source": [
    "(8 + 5) == (8 - 2)"
   ]
  },
  {
   "cell_type": "code",
   "execution_count": 11,
   "metadata": {},
   "outputs": [
    {
     "data": {
      "text/plain": [
       "False"
      ]
     },
     "execution_count": 11,
     "metadata": {},
     "output_type": "execute_result"
    }
   ],
   "source": [
    "len('boostrap') == 7 and len('sample') == 6"
   ]
  },
  {
   "cell_type": "markdown",
   "metadata": {
    "id": "FURQjDL496F0"
   },
   "source": [
    "# Q7"
   ]
  },
  {
   "cell_type": "markdown",
   "metadata": {
    "id": "cAeYGJwn96F0"
   },
   "source": [
    "Given the following python code, write an expression to return 'How'"
   ]
  },
  {
   "cell_type": "code",
   "execution_count": 18,
   "metadata": {
    "id": "g6mimd1f96F1"
   },
   "outputs": [],
   "source": [
    "word='Hello. How are you?'"
   ]
  },
  {
   "cell_type": "code",
   "execution_count": 20,
   "metadata": {},
   "outputs": [
    {
     "name": "stdout",
     "output_type": "stream",
     "text": [
      "How\n"
     ]
    }
   ],
   "source": [
    "print(word[7:10])"
   ]
  },
  {
   "cell_type": "markdown",
   "metadata": {
    "id": "vsMSDaJe96F3"
   },
   "source": [
    "# Q8"
   ]
  },
  {
   "cell_type": "markdown",
   "metadata": {
    "id": "LnF1e0h496F4"
   },
   "source": [
    "What is the right way to create a string for Ault'Kelly"
   ]
  },
  {
   "cell_type": "code",
   "execution_count": 21,
   "metadata": {},
   "outputs": [
    {
     "name": "stdout",
     "output_type": "stream",
     "text": [
      "Ault'Kelly\n"
     ]
    }
   ],
   "source": [
    "new_string = \"Ault'Kelly\"\n",
    "\n",
    "print(new_string)"
   ]
  },
  {
   "cell_type": "markdown",
   "metadata": {
    "id": "kc1QIb5A96F4"
   },
   "source": [
    "# Q9"
   ]
  },
  {
   "cell_type": "markdown",
   "metadata": {
    "id": "aJ1dDZWG96F5"
   },
   "source": [
    "What data type would you use to store the price of a CD?"
   ]
  },
  {
   "cell_type": "markdown",
   "metadata": {},
   "source": [
    "- Float"
   ]
  },
  {
   "cell_type": "markdown",
   "metadata": {
    "id": "xjJU_K5c96F5"
   },
   "source": [
    "# Q10"
   ]
  },
  {
   "cell_type": "markdown",
   "metadata": {
    "id": "-UNemU9w96F6"
   },
   "source": [
    "How would you print out the following variable in all upper case in Python?"
   ]
  },
  {
   "cell_type": "code",
   "execution_count": 24,
   "metadata": {
    "id": "qRxMZIaC96F6"
   },
   "outputs": [],
   "source": [
    "greet = 'Hello Bob'"
   ]
  },
  {
   "cell_type": "code",
   "execution_count": 25,
   "metadata": {},
   "outputs": [
    {
     "name": "stdout",
     "output_type": "stream",
     "text": [
      "HELLO BOB\n"
     ]
    }
   ],
   "source": [
    "print(greet.upper())"
   ]
  },
  {
   "cell_type": "markdown",
   "metadata": {
    "id": "USgW5vtJBbcZ"
   },
   "source": [
    "# Q11"
   ]
  },
  {
   "cell_type": "markdown",
   "metadata": {
    "id": "N_FaHVwuCBmk"
   },
   "source": [
    "Unpack the following collections to variable and print out each of the variable:"
   ]
  },
  {
   "cell_type": "code",
   "execution_count": 26,
   "metadata": {
    "id": "JDvCU-Qj96F7"
   },
   "outputs": [],
   "source": [
    "fruits = ['apple','pineapple','grape','watermelon']"
   ]
  },
  {
   "cell_type": "code",
   "execution_count": 27,
   "metadata": {},
   "outputs": [
    {
     "name": "stdout",
     "output_type": "stream",
     "text": [
      "apple\n",
      "pineapple\n",
      "grape\n",
      "watermelon\n"
     ]
    }
   ],
   "source": [
    "apple, pineapple, grape, watermelon = fruits\n",
    "\n",
    "print(apple)\n",
    "print(pineapple)\n",
    "print(grape)\n",
    "print(watermelon)"
   ]
  },
  {
   "cell_type": "markdown",
   "metadata": {
    "id": "4pD6QtUTFGwa"
   },
   "source": [
    "# Q12\n"
   ]
  },
  {
   "cell_type": "markdown",
   "metadata": {
    "id": "i7CeXZ8cFMJf"
   },
   "source": [
    "Can a string character be concatenated with a float or integer(If yes or no give a brief explanation)"
   ]
  },
  {
   "cell_type": "markdown",
   "metadata": {},
   "source": [
    "- Yes by using string formatting"
   ]
  },
  {
   "cell_type": "markdown",
   "metadata": {
    "id": "D7uU51s_FrBQ"
   },
   "source": [
    "# Q13"
   ]
  },
  {
   "cell_type": "markdown",
   "metadata": {
    "id": "5ipRobT7FwwJ"
   },
   "source": [
    "What type of datatype does using the input() function automatically produce?"
   ]
  },
  {
   "cell_type": "markdown",
   "metadata": {
    "id": "L6zWVXopFuGh"
   },
   "source": [
    "- String"
   ]
  }
 ],
 "metadata": {
  "colab": {
   "collapsed_sections": [],
   "name": "Data Types Exx.ipynb",
   "provenance": []
  },
  "kernelspec": {
   "display_name": "Python 3 (ipykernel)",
   "language": "python",
   "name": "python3"
  },
  "language_info": {
   "codemirror_mode": {
    "name": "ipython",
    "version": 3
   },
   "file_extension": ".py",
   "mimetype": "text/x-python",
   "name": "python",
   "nbconvert_exporter": "python",
   "pygments_lexer": "ipython3",
   "version": "3.9.12"
  }
 },
 "nbformat": 4,
 "nbformat_minor": 4
}
